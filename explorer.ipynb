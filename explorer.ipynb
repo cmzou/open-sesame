{
 "cells": [
  {
   "cell_type": "code",
   "execution_count": null,
   "metadata": {},
   "outputs": [],
   "source": [
    "import pandas as pd\n",
    "import numpy as np\n",
    "import sqlite3 # in case of sqlite3 version issues: https://stackoverflow.com/questions/27663224/error-while-opening-places-sqlite-database-firefox\n",
    "import datetime"
   ]
  },
  {
   "cell_type": "code",
   "execution_count": null,
   "metadata": {},
   "outputs": [],
   "source": [
    "# VARIABLES TO CHANGE ---------------------\n",
    "places_path = 'path-to-places.sqlite'\n",
    "offset = 30 # number of days to look back. FF only keeps up to 365 days\n",
    "url_filter = 'youtube.com/watch'"
   ]
  },
  {
   "cell_type": "code",
   "execution_count": null,
   "metadata": {},
   "outputs": [],
   "source": [
    "con = sqlite3.connect(places_path)\n",
    "cur = con.cursor()\n",
    "# places.sqlite: https://kb.mozillazine.org/Places.sqlite\n",
    "# Schema and relationships help: https://wiki.mozilla.org/images/archive/0/08/20081029023953%21Places.sqlite.schema.pdf"
   ]
  },
  {
   "cell_type": "code",
   "execution_count": null,
   "metadata": {},
   "outputs": [],
   "source": [
    "data = cur.execute(\"SELECT * FROM sqlite_master WHERE type='table'\") # get all the table names"
   ]
  },
  {
   "cell_type": "code",
   "execution_count": null,
   "metadata": {
    "scrolled": true
   },
   "outputs": [],
   "source": [
    "pd.DataFrame.from_records(data, index=None, exclude=None, columns=None, coerce_float=False, nrows=None)"
   ]
  },
  {
   "cell_type": "code",
   "execution_count": null,
   "metadata": {},
   "outputs": [],
   "source": [
    "data = cur.execute('SELECT * FROM moz_places')\n",
    "hist = pd.DataFrame.from_records(data)\n",
    "\n",
    "cols = cur.execute(\"SELECT * FROM pragma_table_info('moz_places') AS tblInfo\")\n",
    "cols = pd.DataFrame.from_records(cols)\n",
    "\n",
    "hist.columns = cols[1].values"
   ]
  },
  {
   "cell_type": "code",
   "execution_count": null,
   "metadata": {},
   "outputs": [],
   "source": [
    "hist_visits = cur.execute('SELECT * FROM moz_historyvisits')\n",
    "hist_visits = pd.DataFrame.from_records(hist_visits)\n",
    "\n",
    "hist_cols = cur.execute(\"SELECT * FROM pragma_table_info('moz_historyvisits') AS tblInfo\")\n",
    "hist_cols = pd.DataFrame.from_records(hist_cols)\n",
    "\n",
    "hist_visits.columns = hist_cols[1].values"
   ]
  },
  {
   "cell_type": "code",
   "execution_count": null,
   "metadata": {},
   "outputs": [],
   "source": [
    "hist.head()"
   ]
  },
  {
   "cell_type": "code",
   "execution_count": null,
   "metadata": {},
   "outputs": [],
   "source": [
    "hist_visits.head()"
   ]
  },
  {
   "cell_type": "markdown",
   "metadata": {},
   "source": [
    "# Data cleaning\n",
    "\n",
    "Convert the timestamp and filter for relevant times and data."
   ]
  },
  {
   "cell_type": "code",
   "execution_count": null,
   "metadata": {},
   "outputs": [],
   "source": [
    "hist_visits_clean = hist_visits.copy()\n",
    "hist_visits_clean['visit_date'] = hist_visits_clean['visit_date']\\\n",
    "                                        .apply(lambda x: datetime.datetime.fromtimestamp(x / 1e6))"
   ]
  },
  {
   "cell_type": "code",
   "execution_count": null,
   "metadata": {},
   "outputs": [],
   "source": [
    "merged = hist_visits_clean.merge(hist, left_on='place_id', right_on='id') # N-1 relationship, how shouldn't be a problem\n",
    "merged = merged[merged['url'].str.contains(url_filter)]\n",
    "merged = merged[merged['visit_date'] >= datetime.datetime.today() - datetime.timedelta(days=offset)]"
   ]
  },
  {
   "cell_type": "code",
   "execution_count": null,
   "metadata": {},
   "outputs": [],
   "source": [
    "merged.tail()"
   ]
  },
  {
   "cell_type": "markdown",
   "metadata": {},
   "source": [
    "# Aggregation\n",
    "\n",
    "What are the most visited sites?"
   ]
  },
  {
   "cell_type": "code",
   "execution_count": null,
   "metadata": {
    "scrolled": true
   },
   "outputs": [],
   "source": [
    "final = pd.DataFrame(merged.groupby(['title'])['id_x'].count().sort_values(ascending=False)).reset_index()"
   ]
  },
  {
   "cell_type": "code",
   "execution_count": null,
   "metadata": {
    "scrolled": true
   },
   "outputs": [],
   "source": [
    "final"
   ]
  },
  {
   "cell_type": "code",
   "execution_count": null,
   "metadata": {},
   "outputs": [],
   "source": []
  }
 ],
 "metadata": {
  "kernelspec": {
   "display_name": "Python 3",
   "language": "python",
   "name": "python3"
  },
  "language_info": {
   "codemirror_mode": {
    "name": "ipython",
    "version": 3
   },
   "file_extension": ".py",
   "mimetype": "text/x-python",
   "name": "python",
   "nbconvert_exporter": "python",
   "pygments_lexer": "ipython3",
   "version": "3.7.3"
  }
 },
 "nbformat": 4,
 "nbformat_minor": 2
}
